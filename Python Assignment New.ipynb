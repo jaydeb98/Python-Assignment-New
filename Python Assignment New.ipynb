{
 "cells": [
  {
   "cell_type": "code",
   "execution_count": 34,
   "id": "c96015c2-13d9-4364-9b08-0bd4e7fccbd1",
   "metadata": {},
   "outputs": [],
   "source": [
    "#1.\n",
    "\n",
    "def calculate_product(l):\n",
    "    a = []\n",
    "    for i in l:\n",
    "        if type(i) == list or type(i) == set:\n",
    "            for j in i:\n",
    "                if type(j) == int or type(j) == float:\n",
    "                    a.append(j)\n",
    "        elif type(i) == tuple:\n",
    "            for j in i:\n",
    "                if type(j) == int or type(j) == float:\n",
    "                    a.append(j)\n",
    "        elif type(i) == dict:\n",
    "            for j in i.keys():\n",
    "                if type(j) == int:\n",
    "                    a.append(j)\n",
    "            for j in i.values():\n",
    "                if type(j) == list or type(j) == tuple:\n",
    "                    for n in j:\n",
    "                        if type(n) == int:\n",
    "                            a.append(n)\n",
    "                elif type(j) == int:\n",
    "                    a.append(j)\n",
    "        elif type(i) == int or type(i) == float:\n",
    "            a.append(i)\n",
    "    \n",
    "    product = 1\n",
    "    for i in a:\n",
    "        product = product*i\n",
    "    return product\n",
    "    \n"
   ]
  },
  {
   "cell_type": "code",
   "execution_count": 35,
   "id": "1889e026-9b5f-4b14-adca-a0ad1c4bf837",
   "metadata": {},
   "outputs": [],
   "source": [
    "list1 = [1,2,3,4, [44,55,66, True], False, (34,56,78,89,34), {1,2,3,3,2,1}, {1:34, \"key2\": [55, 67, 78, 89], 4: (45,\n",
    "22, 61, 34)}, [56, 'data science'], 'Machine Learning']"
   ]
  },
  {
   "cell_type": "code",
   "execution_count": 36,
   "id": "35948e56-af1c-46c2-a120-23cf50f1a0e6",
   "metadata": {},
   "outputs": [
    {
     "data": {
      "text/plain": [
       "4134711838987085478833841242112000"
      ]
     },
     "execution_count": 36,
     "metadata": {},
     "output_type": "execute_result"
    }
   ],
   "source": [
    "calculate_product(list1)"
   ]
  },
  {
   "cell_type": "code",
   "execution_count": 37,
   "id": "2dc438d0-4019-4be4-9437-59b91e96a4df",
   "metadata": {},
   "outputs": [
    {
     "name": "stdout",
     "output_type": "stream",
     "text": [
      "r$dzmg$gl$yvxlnv$z$wzgz$hxrvmgrhg.\n"
     ]
    }
   ],
   "source": [
    "#2. \n",
    "\n",
    "def encrypt_message(message):\n",
    "    encrypted_message = \"\"\n",
    "    for char in message:\n",
    "        if char.isalpha():\n",
    "            char = chr(ord('a') + (ord('z') - ord(char)))\n",
    "        elif char.isspace():\n",
    "            char = '$'\n",
    "        encrypted_message += char\n",
    "    return encrypted_message\n",
    "\n",
    "# Example \n",
    "input_sentence = \"I want to become a Data Scientist.\"\n",
    "encrypted_sentence = encrypt_message(input_sentence.lower())\n",
    "print(encrypted_sentence)"
   ]
  },
  {
   "cell_type": "code",
   "execution_count": null,
   "id": "fe3fb8cc-450e-4653-9cbb-567996a992aa",
   "metadata": {},
   "outputs": [],
   "source": []
  }
 ],
 "metadata": {
  "kernelspec": {
   "display_name": "Python 3 (ipykernel)",
   "language": "python",
   "name": "python3"
  },
  "language_info": {
   "codemirror_mode": {
    "name": "ipython",
    "version": 3
   },
   "file_extension": ".py",
   "mimetype": "text/x-python",
   "name": "python",
   "nbconvert_exporter": "python",
   "pygments_lexer": "ipython3",
   "version": "3.10.8"
  }
 },
 "nbformat": 4,
 "nbformat_minor": 5
}
